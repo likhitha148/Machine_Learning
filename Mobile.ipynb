{
  "nbformat": 4,
  "nbformat_minor": 0,
  "metadata": {
    "colab": {
      "name": "Mobile.ipynb",
      "provenance": [],
      "authorship_tag": "ABX9TyPTqrrDzDAFYxONUqAP8O1q",
      "include_colab_link": true
    },
    "kernelspec": {
      "name": "python3",
      "display_name": "Python 3"
    },
    "language_info": {
      "name": "python"
    }
  },
  "cells": [
    {
      "cell_type": "markdown",
      "metadata": {
        "id": "view-in-github",
        "colab_type": "text"
      },
      "source": [
        "<a href=\"https://colab.research.google.com/github/likhitha148/Machine_Learning/blob/main/Mobile.ipynb\" target=\"_parent\"><img src=\"https://colab.research.google.com/assets/colab-badge.svg\" alt=\"Open In Colab\"/></a>"
      ]
    },
    {
      "cell_type": "code",
      "metadata": {
        "id": "wCrhsTfghf2L"
      },
      "source": [
        "import pandas as pd\n",
        "import matplotlib.pyplot as plt\n"
      ],
      "execution_count": null,
      "outputs": []
    },
    {
      "cell_type": "code",
      "metadata": {
        "id": "cys78Y_khp3e"
      },
      "source": [
        "data=pd.read_csv('/content/train.csv')"
      ],
      "execution_count": null,
      "outputs": []
    },
    {
      "cell_type": "code",
      "metadata": {
        "colab": {
          "base_uri": "https://localhost:8080/",
          "height": 435
        },
        "id": "_CJ6TbShhwLu",
        "outputId": "7ef4e35f-adbc-42d6-ec01-225f6140720e"
      },
      "source": [
        "data"
      ],
      "execution_count": null,
      "outputs": [
        {
          "output_type": "execute_result",
          "data": {
            "text/html": [
              "<div>\n",
              "<style scoped>\n",
              "    .dataframe tbody tr th:only-of-type {\n",
              "        vertical-align: middle;\n",
              "    }\n",
              "\n",
              "    .dataframe tbody tr th {\n",
              "        vertical-align: top;\n",
              "    }\n",
              "\n",
              "    .dataframe thead th {\n",
              "        text-align: right;\n",
              "    }\n",
              "</style>\n",
              "<table border=\"1\" class=\"dataframe\">\n",
              "  <thead>\n",
              "    <tr style=\"text-align: right;\">\n",
              "      <th></th>\n",
              "      <th>battery_power</th>\n",
              "      <th>blue</th>\n",
              "      <th>clock_speed</th>\n",
              "      <th>dual_sim</th>\n",
              "      <th>fc</th>\n",
              "      <th>four_g</th>\n",
              "      <th>int_memory</th>\n",
              "      <th>m_dep</th>\n",
              "      <th>mobile_wt</th>\n",
              "      <th>n_cores</th>\n",
              "      <th>pc</th>\n",
              "      <th>px_height</th>\n",
              "      <th>px_width</th>\n",
              "      <th>ram</th>\n",
              "      <th>sc_h</th>\n",
              "      <th>sc_w</th>\n",
              "      <th>talk_time</th>\n",
              "      <th>three_g</th>\n",
              "      <th>touch_screen</th>\n",
              "      <th>wifi</th>\n",
              "      <th>price_range</th>\n",
              "    </tr>\n",
              "  </thead>\n",
              "  <tbody>\n",
              "    <tr>\n",
              "      <th>0</th>\n",
              "      <td>842</td>\n",
              "      <td>0</td>\n",
              "      <td>2.2</td>\n",
              "      <td>0</td>\n",
              "      <td>1</td>\n",
              "      <td>0</td>\n",
              "      <td>7</td>\n",
              "      <td>0.6</td>\n",
              "      <td>188</td>\n",
              "      <td>2</td>\n",
              "      <td>2</td>\n",
              "      <td>20</td>\n",
              "      <td>756</td>\n",
              "      <td>2549</td>\n",
              "      <td>9</td>\n",
              "      <td>7</td>\n",
              "      <td>19</td>\n",
              "      <td>0</td>\n",
              "      <td>0</td>\n",
              "      <td>1</td>\n",
              "      <td>1</td>\n",
              "    </tr>\n",
              "    <tr>\n",
              "      <th>1</th>\n",
              "      <td>1021</td>\n",
              "      <td>1</td>\n",
              "      <td>0.5</td>\n",
              "      <td>1</td>\n",
              "      <td>0</td>\n",
              "      <td>1</td>\n",
              "      <td>53</td>\n",
              "      <td>0.7</td>\n",
              "      <td>136</td>\n",
              "      <td>3</td>\n",
              "      <td>6</td>\n",
              "      <td>905</td>\n",
              "      <td>1988</td>\n",
              "      <td>2631</td>\n",
              "      <td>17</td>\n",
              "      <td>3</td>\n",
              "      <td>7</td>\n",
              "      <td>1</td>\n",
              "      <td>1</td>\n",
              "      <td>0</td>\n",
              "      <td>2</td>\n",
              "    </tr>\n",
              "    <tr>\n",
              "      <th>2</th>\n",
              "      <td>563</td>\n",
              "      <td>1</td>\n",
              "      <td>0.5</td>\n",
              "      <td>1</td>\n",
              "      <td>2</td>\n",
              "      <td>1</td>\n",
              "      <td>41</td>\n",
              "      <td>0.9</td>\n",
              "      <td>145</td>\n",
              "      <td>5</td>\n",
              "      <td>6</td>\n",
              "      <td>1263</td>\n",
              "      <td>1716</td>\n",
              "      <td>2603</td>\n",
              "      <td>11</td>\n",
              "      <td>2</td>\n",
              "      <td>9</td>\n",
              "      <td>1</td>\n",
              "      <td>1</td>\n",
              "      <td>0</td>\n",
              "      <td>2</td>\n",
              "    </tr>\n",
              "    <tr>\n",
              "      <th>3</th>\n",
              "      <td>615</td>\n",
              "      <td>1</td>\n",
              "      <td>2.5</td>\n",
              "      <td>0</td>\n",
              "      <td>0</td>\n",
              "      <td>0</td>\n",
              "      <td>10</td>\n",
              "      <td>0.8</td>\n",
              "      <td>131</td>\n",
              "      <td>6</td>\n",
              "      <td>9</td>\n",
              "      <td>1216</td>\n",
              "      <td>1786</td>\n",
              "      <td>2769</td>\n",
              "      <td>16</td>\n",
              "      <td>8</td>\n",
              "      <td>11</td>\n",
              "      <td>1</td>\n",
              "      <td>0</td>\n",
              "      <td>0</td>\n",
              "      <td>2</td>\n",
              "    </tr>\n",
              "    <tr>\n",
              "      <th>4</th>\n",
              "      <td>1821</td>\n",
              "      <td>1</td>\n",
              "      <td>1.2</td>\n",
              "      <td>0</td>\n",
              "      <td>13</td>\n",
              "      <td>1</td>\n",
              "      <td>44</td>\n",
              "      <td>0.6</td>\n",
              "      <td>141</td>\n",
              "      <td>2</td>\n",
              "      <td>14</td>\n",
              "      <td>1208</td>\n",
              "      <td>1212</td>\n",
              "      <td>1411</td>\n",
              "      <td>8</td>\n",
              "      <td>2</td>\n",
              "      <td>15</td>\n",
              "      <td>1</td>\n",
              "      <td>1</td>\n",
              "      <td>0</td>\n",
              "      <td>1</td>\n",
              "    </tr>\n",
              "    <tr>\n",
              "      <th>...</th>\n",
              "      <td>...</td>\n",
              "      <td>...</td>\n",
              "      <td>...</td>\n",
              "      <td>...</td>\n",
              "      <td>...</td>\n",
              "      <td>...</td>\n",
              "      <td>...</td>\n",
              "      <td>...</td>\n",
              "      <td>...</td>\n",
              "      <td>...</td>\n",
              "      <td>...</td>\n",
              "      <td>...</td>\n",
              "      <td>...</td>\n",
              "      <td>...</td>\n",
              "      <td>...</td>\n",
              "      <td>...</td>\n",
              "      <td>...</td>\n",
              "      <td>...</td>\n",
              "      <td>...</td>\n",
              "      <td>...</td>\n",
              "      <td>...</td>\n",
              "    </tr>\n",
              "    <tr>\n",
              "      <th>1995</th>\n",
              "      <td>794</td>\n",
              "      <td>1</td>\n",
              "      <td>0.5</td>\n",
              "      <td>1</td>\n",
              "      <td>0</td>\n",
              "      <td>1</td>\n",
              "      <td>2</td>\n",
              "      <td>0.8</td>\n",
              "      <td>106</td>\n",
              "      <td>6</td>\n",
              "      <td>14</td>\n",
              "      <td>1222</td>\n",
              "      <td>1890</td>\n",
              "      <td>668</td>\n",
              "      <td>13</td>\n",
              "      <td>4</td>\n",
              "      <td>19</td>\n",
              "      <td>1</td>\n",
              "      <td>1</td>\n",
              "      <td>0</td>\n",
              "      <td>0</td>\n",
              "    </tr>\n",
              "    <tr>\n",
              "      <th>1996</th>\n",
              "      <td>1965</td>\n",
              "      <td>1</td>\n",
              "      <td>2.6</td>\n",
              "      <td>1</td>\n",
              "      <td>0</td>\n",
              "      <td>0</td>\n",
              "      <td>39</td>\n",
              "      <td>0.2</td>\n",
              "      <td>187</td>\n",
              "      <td>4</td>\n",
              "      <td>3</td>\n",
              "      <td>915</td>\n",
              "      <td>1965</td>\n",
              "      <td>2032</td>\n",
              "      <td>11</td>\n",
              "      <td>10</td>\n",
              "      <td>16</td>\n",
              "      <td>1</td>\n",
              "      <td>1</td>\n",
              "      <td>1</td>\n",
              "      <td>2</td>\n",
              "    </tr>\n",
              "    <tr>\n",
              "      <th>1997</th>\n",
              "      <td>1911</td>\n",
              "      <td>0</td>\n",
              "      <td>0.9</td>\n",
              "      <td>1</td>\n",
              "      <td>1</td>\n",
              "      <td>1</td>\n",
              "      <td>36</td>\n",
              "      <td>0.7</td>\n",
              "      <td>108</td>\n",
              "      <td>8</td>\n",
              "      <td>3</td>\n",
              "      <td>868</td>\n",
              "      <td>1632</td>\n",
              "      <td>3057</td>\n",
              "      <td>9</td>\n",
              "      <td>1</td>\n",
              "      <td>5</td>\n",
              "      <td>1</td>\n",
              "      <td>1</td>\n",
              "      <td>0</td>\n",
              "      <td>3</td>\n",
              "    </tr>\n",
              "    <tr>\n",
              "      <th>1998</th>\n",
              "      <td>1512</td>\n",
              "      <td>0</td>\n",
              "      <td>0.9</td>\n",
              "      <td>0</td>\n",
              "      <td>4</td>\n",
              "      <td>1</td>\n",
              "      <td>46</td>\n",
              "      <td>0.1</td>\n",
              "      <td>145</td>\n",
              "      <td>5</td>\n",
              "      <td>5</td>\n",
              "      <td>336</td>\n",
              "      <td>670</td>\n",
              "      <td>869</td>\n",
              "      <td>18</td>\n",
              "      <td>10</td>\n",
              "      <td>19</td>\n",
              "      <td>1</td>\n",
              "      <td>1</td>\n",
              "      <td>1</td>\n",
              "      <td>0</td>\n",
              "    </tr>\n",
              "    <tr>\n",
              "      <th>1999</th>\n",
              "      <td>510</td>\n",
              "      <td>1</td>\n",
              "      <td>2.0</td>\n",
              "      <td>1</td>\n",
              "      <td>5</td>\n",
              "      <td>1</td>\n",
              "      <td>45</td>\n",
              "      <td>0.9</td>\n",
              "      <td>168</td>\n",
              "      <td>6</td>\n",
              "      <td>16</td>\n",
              "      <td>483</td>\n",
              "      <td>754</td>\n",
              "      <td>3919</td>\n",
              "      <td>19</td>\n",
              "      <td>4</td>\n",
              "      <td>2</td>\n",
              "      <td>1</td>\n",
              "      <td>1</td>\n",
              "      <td>1</td>\n",
              "      <td>3</td>\n",
              "    </tr>\n",
              "  </tbody>\n",
              "</table>\n",
              "<p>2000 rows × 21 columns</p>\n",
              "</div>"
            ],
            "text/plain": [
              "      battery_power  blue  clock_speed  ...  touch_screen  wifi  price_range\n",
              "0               842     0          2.2  ...             0     1            1\n",
              "1              1021     1          0.5  ...             1     0            2\n",
              "2               563     1          0.5  ...             1     0            2\n",
              "3               615     1          2.5  ...             0     0            2\n",
              "4              1821     1          1.2  ...             1     0            1\n",
              "...             ...   ...          ...  ...           ...   ...          ...\n",
              "1995            794     1          0.5  ...             1     0            0\n",
              "1996           1965     1          2.6  ...             1     1            2\n",
              "1997           1911     0          0.9  ...             1     0            3\n",
              "1998           1512     0          0.9  ...             1     1            0\n",
              "1999            510     1          2.0  ...             1     1            3\n",
              "\n",
              "[2000 rows x 21 columns]"
            ]
          },
          "metadata": {
            "tags": []
          },
          "execution_count": 17
        }
      ]
    },
    {
      "cell_type": "code",
      "metadata": {
        "id": "qB7Te6bth5oz"
      },
      "source": [
        "x=data.iloc[:,:-1].values\n",
        "y=data.iloc[:,-1].values"
      ],
      "execution_count": null,
      "outputs": []
    },
    {
      "cell_type": "code",
      "metadata": {
        "colab": {
          "base_uri": "https://localhost:8080/"
        },
        "id": "KtpukgcJiJqH",
        "outputId": "b5eeb5d0-89e6-436a-87e7-a650c7fc23e1"
      },
      "source": [
        "x"
      ],
      "execution_count": null,
      "outputs": [
        {
          "output_type": "execute_result",
          "data": {
            "text/plain": [
              "array([[8.420e+02, 0.000e+00, 2.200e+00, ..., 0.000e+00, 0.000e+00,\n",
              "        1.000e+00],\n",
              "       [1.021e+03, 1.000e+00, 5.000e-01, ..., 1.000e+00, 1.000e+00,\n",
              "        0.000e+00],\n",
              "       [5.630e+02, 1.000e+00, 5.000e-01, ..., 1.000e+00, 1.000e+00,\n",
              "        0.000e+00],\n",
              "       ...,\n",
              "       [1.911e+03, 0.000e+00, 9.000e-01, ..., 1.000e+00, 1.000e+00,\n",
              "        0.000e+00],\n",
              "       [1.512e+03, 0.000e+00, 9.000e-01, ..., 1.000e+00, 1.000e+00,\n",
              "        1.000e+00],\n",
              "       [5.100e+02, 1.000e+00, 2.000e+00, ..., 1.000e+00, 1.000e+00,\n",
              "        1.000e+00]])"
            ]
          },
          "metadata": {
            "tags": []
          },
          "execution_count": 23
        }
      ]
    },
    {
      "cell_type": "code",
      "metadata": {
        "colab": {
          "base_uri": "https://localhost:8080/"
        },
        "id": "jpA0yXo0iKxJ",
        "outputId": "74ab70d5-c4c3-487a-c180-7a0592894c1f"
      },
      "source": [
        "y"
      ],
      "execution_count": null,
      "outputs": [
        {
          "output_type": "execute_result",
          "data": {
            "text/plain": [
              "array([1, 2, 2, ..., 3, 0, 3])"
            ]
          },
          "metadata": {
            "tags": []
          },
          "execution_count": 22
        }
      ]
    },
    {
      "cell_type": "code",
      "metadata": {
        "id": "JzlxsIXyiNcb"
      },
      "source": [
        "from sklearn.model_selection import train_test_split\n",
        "xtrain,xtest,ytrain,ytest=train_test_split(x,y,test_size=0.20,random_state=9)"
      ],
      "execution_count": null,
      "outputs": []
    },
    {
      "cell_type": "markdown",
      "metadata": {
        "id": "PvXDutz5ijsx"
      },
      "source": [
        "KNN ALGORITHM"
      ]
    },
    {
      "cell_type": "code",
      "metadata": {
        "id": "VrGSy9Pgibtu"
      },
      "source": [
        "from sklearn.neighbors import KNeighborsClassifier\n",
        "modelknn=KNeighborsClassifier(n_neighbors=29)"
      ],
      "execution_count": null,
      "outputs": []
    },
    {
      "cell_type": "code",
      "metadata": {
        "colab": {
          "base_uri": "https://localhost:8080/"
        },
        "id": "W6UE-CIvipbY",
        "outputId": "d129339a-715b-4728-b3ee-0dd68edd806b"
      },
      "source": [
        "modelknn.fit(xtrain,ytrain)"
      ],
      "execution_count": null,
      "outputs": [
        {
          "output_type": "execute_result",
          "data": {
            "text/plain": [
              "KNeighborsClassifier(algorithm='auto', leaf_size=30, metric='minkowski',\n",
              "                     metric_params=None, n_jobs=None, n_neighbors=29, p=2,\n",
              "                     weights='uniform')"
            ]
          },
          "metadata": {
            "tags": []
          },
          "execution_count": 68
        }
      ]
    },
    {
      "cell_type": "code",
      "metadata": {
        "id": "7yELHT-eitaM"
      },
      "source": [
        "ypred=modelknn.predict(xtest)"
      ],
      "execution_count": null,
      "outputs": []
    },
    {
      "cell_type": "code",
      "metadata": {
        "colab": {
          "base_uri": "https://localhost:8080/"
        },
        "id": "DtM0gnPOixRF",
        "outputId": "cb6edd23-6961-40a3-8df6-68cd0bc07cf6"
      },
      "source": [
        "print(ypred)"
      ],
      "execution_count": null,
      "outputs": [
        {
          "output_type": "stream",
          "text": [
            "[1 0 1 3 2 2 0 0 2 3 1 0 1 0 2 1 2 2 0 3 3 1 0 2 2 2 1 3 0 1 1 1 0 1 0 1 3\n",
            " 1 3 3 3 3 0 0 0 2 0 3 2 3 0 2 3 3 1 0 2 1 3 3 0 1 0 0 1 1 2 3 0 0 1 3 3 2\n",
            " 0 1 3 2 1 0 2 0 0 1 3 0 2 0 3 0 1 1 0 3 2 3 3 1 3 3 1 1 1 0 0 3 2 3 1 2 3\n",
            " 2 1 1 3 0 3 2 1 0 2 1 2 3 2 2 1 1 1 3 2 1 2 1 3 0 2 0 2 1 3 3 3 2 3 0 3 0\n",
            " 2 2 0 3 3 1 0 1 2 3 3 3 2 1 0 3 3 2 2 1 0 2 1 3 2 1 3 0 3 3 2 2 0 0 0 2 2\n",
            " 2 0 3 3 2 1 1 1 1 3 2 1 0 3 3 1 2 1 2 0 3 1 3 0 1 0 0 3 2 0 1 2 0 2 0 0 3\n",
            " 2 1 0 3 0 0 0 3 1 1 3 1 2 3 0 1 3 1 0 2 0 0 0 0 2 3 0 1 1 3 0 3 1 2 3 2 0\n",
            " 1 2 0 1 0 2 1 1 0 0 0 1 2 1 0 1 1 0 2 3 2 1 0 0 2 3 3 1 1 3 1 0 0 3 3 1 1\n",
            " 1 0 0 3 0 1 0 3 0 2 0 2 3 0 0 1 2 3 1 2 0 1 2 0 2 3 2 3 1 1 2 2 1 2 2 3 1\n",
            " 1 3 3 0 2 2 0 0 2 0 1 3 2 2 1 3 0 3 2 0 0 2 0 0 1 0 1 3 0 1 2 2 1 3 1 2 3\n",
            " 2 2 1 0 3 1 0 3 1 0 3 2 0 0 2 1 2 2 2 3 1 0 1 2 1 3 3 1 1 2]\n"
          ],
          "name": "stdout"
        }
      ]
    },
    {
      "cell_type": "code",
      "metadata": {
        "colab": {
          "base_uri": "https://localhost:8080/"
        },
        "id": "jLX6iI1Ziy6P",
        "outputId": "c26223b5-4368-4bb8-91aa-b859847699d3"
      },
      "source": [
        "from sklearn.metrics import accuracy_score\n",
        "knn_ac=print('KNN',accuracy_score(ytest,ypred)*100)\n",
        "knn_ac"
      ],
      "execution_count": null,
      "outputs": [
        {
          "output_type": "stream",
          "text": [
            "KNN 94.0\n"
          ],
          "name": "stdout"
        }
      ]
    },
    {
      "cell_type": "code",
      "metadata": {
        "colab": {
          "base_uri": "https://localhost:8080/"
        },
        "id": "dHxjsokNi9GA",
        "outputId": "ea77f1a1-6166-49d1-d068-31290740217f"
      },
      "source": [
        "print('KNN',model.predict([[1038,0,1.2,0,3,0,43,0.7,141,1,5,4,638,3709,11,0,12,1,1,1]]))"
      ],
      "execution_count": null,
      "outputs": [
        {
          "output_type": "stream",
          "text": [
            "KNN [3]\n"
          ],
          "name": "stdout"
        }
      ]
    },
    {
      "cell_type": "markdown",
      "metadata": {
        "id": "rFTke_hwjWgu"
      },
      "source": [
        "LINEAR REGRESSION"
      ]
    },
    {
      "cell_type": "code",
      "metadata": {
        "id": "UOwlenHrjCY-"
      },
      "source": [
        "from sklearn.linear_model import LinearRegression\n",
        "modellr=LinearRegression()\n",
        "modellr.fit(xtrain,ytrain)#alg will start learning from the data\n",
        "ypredlr=modellr.predict(xtest)"
      ],
      "execution_count": null,
      "outputs": []
    },
    {
      "cell_type": "code",
      "metadata": {
        "colab": {
          "base_uri": "https://localhost:8080/"
        },
        "id": "AzxO0GOGjL7U",
        "outputId": "9ce69368-c9a1-490b-fbfe-3e7b9712eaf5"
      },
      "source": [
        "from sklearn.metrics import mean_squared_error\n",
        "import math\n",
        "\n",
        "print(math.sqrt(mean_squared_error(ytest,ypredlr)))\n",
        "lr_ac=print('LR',accuracy_score(ytest,ypred)*100)\n",
        "lr_ac"
      ],
      "execution_count": null,
      "outputs": [
        {
          "output_type": "stream",
          "text": [
            "0.3208059410395647\n",
            "LR 94.0\n"
          ],
          "name": "stdout"
        }
      ]
    },
    {
      "cell_type": "code",
      "metadata": {
        "colab": {
          "base_uri": "https://localhost:8080/"
        },
        "id": "d2IN3n5KD7B8",
        "outputId": "c84ef828-4426-48a6-ef06-7aced24cf2e3"
      },
      "source": [
        "print('regression',model.predict([[1038,0,1.2,0,3,0,43,0.7,141,1,5,4,638,3709,11,0,12,1,1,1]]))"
      ],
      "execution_count": null,
      "outputs": [
        {
          "output_type": "stream",
          "text": [
            "regression [3]\n"
          ],
          "name": "stdout"
        }
      ]
    },
    {
      "cell_type": "code",
      "metadata": {
        "id": "dmXAIqpIjR2H"
      },
      "source": [
        ""
      ],
      "execution_count": null,
      "outputs": []
    },
    {
      "cell_type": "markdown",
      "metadata": {
        "id": "mlQJUo-TjZey"
      },
      "source": [
        "DECISION TREE"
      ]
    },
    {
      "cell_type": "code",
      "metadata": {
        "colab": {
          "base_uri": "https://localhost:8080/"
        },
        "id": "gQJhJu9fjirt",
        "outputId": "ec3ad5eb-e52e-41d4-ac38-5d2af2ff01ae"
      },
      "source": [
        "from sklearn.tree import DecisionTreeClassifier\n",
        "modeldt=DecisionTreeClassifier(criterion='gini')\n",
        "modeldt.fit(xtrain,ytrain)"
      ],
      "execution_count": null,
      "outputs": [
        {
          "output_type": "execute_result",
          "data": {
            "text/plain": [
              "DecisionTreeClassifier(ccp_alpha=0.0, class_weight=None, criterion='gini',\n",
              "                       max_depth=None, max_features=None, max_leaf_nodes=None,\n",
              "                       min_impurity_decrease=0.0, min_impurity_split=None,\n",
              "                       min_samples_leaf=1, min_samples_split=2,\n",
              "                       min_weight_fraction_leaf=0.0, presort='deprecated',\n",
              "                       random_state=None, splitter='best')"
            ]
          },
          "metadata": {
            "tags": []
          },
          "execution_count": 35
        }
      ]
    },
    {
      "cell_type": "code",
      "metadata": {
        "colab": {
          "base_uri": "https://localhost:8080/"
        },
        "id": "LKV2n5h6jjx9",
        "outputId": "71d2ea78-2979-4323-fffc-5c76cc626de5"
      },
      "source": [
        "ypreddt=modeldt.predict(xtest)\n",
        "print(ypreddt)\n",
        "dt_ac=print('DT',accuracy_score(ytest,ypreddt)*100)\n",
        "dt_ac\n",
        "print('Decison tree',modeldt.predict([[1038,0,1.2,0,3,0,43,0.7,141,1,5,4,638,3709,11,0,12,1,1,1]]))\n"
      ],
      "execution_count": null,
      "outputs": [
        {
          "output_type": "stream",
          "text": [
            "[1 0 1 3 2 2 0 1 3 3 1 1 1 0 2 2 2 1 1 2 3 1 0 2 2 2 1 3 0 1 1 1 0 1 0 1 3\n",
            " 1 3 3 3 3 0 1 1 2 0 3 2 3 0 2 3 3 1 0 2 2 2 3 0 2 1 0 1 1 2 3 0 0 1 3 3 2\n",
            " 0 1 3 2 2 0 2 0 0 1 3 1 2 0 3 0 1 1 0 3 1 3 3 1 3 3 1 1 1 0 0 2 2 3 0 1 3\n",
            " 2 0 1 3 0 3 2 1 0 2 1 2 3 2 2 1 2 2 3 2 1 2 0 3 0 2 0 2 2 3 3 3 1 3 0 3 0\n",
            " 2 2 0 3 2 1 0 1 3 3 3 3 2 1 0 3 3 2 2 1 0 1 1 3 2 1 3 1 3 3 2 2 0 0 0 2 2\n",
            " 2 0 3 3 1 1 1 0 1 3 2 1 1 3 2 1 2 1 2 0 3 1 3 0 1 0 0 3 2 0 1 2 0 2 0 0 3\n",
            " 2 2 0 3 0 0 0 3 2 1 3 1 2 3 1 1 3 1 0 2 0 0 0 0 2 2 0 1 1 3 0 3 1 2 3 2 0\n",
            " 1 2 0 2 0 2 1 0 0 0 0 2 2 0 0 1 1 0 2 3 2 1 0 0 2 3 3 1 1 3 1 1 0 3 3 1 1\n",
            " 1 0 0 3 0 2 0 2 0 2 0 2 3 0 0 2 3 3 1 2 0 1 2 1 2 3 2 3 1 2 2 2 1 2 2 2 1\n",
            " 1 2 3 0 2 1 0 0 2 0 2 3 2 2 1 3 0 3 2 0 0 2 0 0 1 0 1 2 0 1 2 2 1 3 2 1 2\n",
            " 2 2 1 0 3 1 0 3 0 0 3 2 0 0 3 1 2 2 2 3 1 0 1 2 1 3 3 2 1 3]\n",
            "DT 82.5\n",
            "Decison tree [3]\n"
          ],
          "name": "stdout"
        }
      ]
    },
    {
      "cell_type": "markdown",
      "metadata": {
        "id": "ZBEY3lqGjvwo"
      },
      "source": [
        "NAVIE BAYES"
      ]
    },
    {
      "cell_type": "code",
      "metadata": {
        "id": "FnsECTPgjnVP"
      },
      "source": [
        "from sklearn.naive_bayes import GaussianNB #importing knn alg\n",
        "modelNB=GaussianNB()#entrophy"
      ],
      "execution_count": null,
      "outputs": []
    },
    {
      "cell_type": "code",
      "metadata": {
        "colab": {
          "base_uri": "https://localhost:8080/"
        },
        "id": "8lB6sunbjy-S",
        "outputId": "95a0fc37-5f53-48b7-b0a7-dd14b7be5f5e"
      },
      "source": [
        "modelNB.fit(xtrain,ytrain)"
      ],
      "execution_count": null,
      "outputs": [
        {
          "output_type": "execute_result",
          "data": {
            "text/plain": [
              "GaussianNB(priors=None, var_smoothing=1e-09)"
            ]
          },
          "metadata": {
            "tags": []
          },
          "execution_count": 30
        }
      ]
    },
    {
      "cell_type": "code",
      "metadata": {
        "colab": {
          "base_uri": "https://localhost:8080/"
        },
        "id": "KELnd1Jmj7TT",
        "outputId": "e898d3c9-02b9-40fa-8ffa-d7a1d4058c86"
      },
      "source": [
        "yprednb=modelNB.predict(xtest)\n",
        "print(yprednb)\n",
        "from sklearn.metrics import accuracy_score\n",
        "nb_ac=print('NB',accuracy_score(ytest,ypreddt)*100)\n",
        "nb_ac"
      ],
      "execution_count": null,
      "outputs": [
        {
          "output_type": "stream",
          "text": [
            "[1 0 2 3 1 2 0 0 3 3 1 1 1 0 3 1 2 1 0 2 3 1 0 2 2 2 1 3 1 1 1 1 0 1 0 1 3\n",
            " 1 3 3 3 3 0 1 0 2 0 3 2 3 0 3 3 3 1 0 2 1 2 3 1 1 0 0 1 1 2 3 0 0 1 3 3 2\n",
            " 0 1 3 2 1 0 2 0 0 1 3 1 2 0 3 0 1 1 0 3 1 3 2 1 2 3 1 2 1 0 0 3 1 3 1 1 3\n",
            " 2 1 1 3 0 3 2 1 0 2 1 2 3 2 2 1 1 1 3 2 1 2 0 3 0 2 0 2 1 3 3 3 1 3 0 3 0\n",
            " 2 2 0 3 2 0 0 1 2 3 3 3 2 1 1 3 3 2 2 1 0 2 2 3 2 1 3 0 3 3 2 2 0 0 0 2 2\n",
            " 1 0 3 3 1 1 1 0 1 3 2 1 0 3 3 1 1 1 2 0 3 1 3 0 1 0 0 3 3 0 2 3 0 2 0 0 2\n",
            " 3 1 0 3 0 0 0 3 2 1 3 1 1 3 0 1 3 1 0 2 0 0 1 0 1 3 0 1 1 3 0 3 2 2 3 2 0\n",
            " 2 2 0 2 0 2 1 1 0 0 0 1 1 1 0 1 1 0 3 3 2 1 0 0 2 3 3 1 1 3 1 0 0 3 3 0 1\n",
            " 1 0 0 3 0 1 0 3 0 1 0 1 3 0 0 1 2 3 1 3 0 1 3 1 3 3 2 3 1 1 2 2 0 1 2 2 1\n",
            " 1 3 3 0 2 1 0 0 2 0 1 3 2 2 2 3 0 3 2 0 1 2 0 0 1 0 1 3 0 1 2 2 1 3 1 2 3\n",
            " 2 2 2 0 3 2 0 3 0 0 3 2 0 0 2 1 2 2 2 3 1 1 1 1 1 3 3 1 1 2]\n",
            "NB 82.5\n"
          ],
          "name": "stdout"
        }
      ]
    },
    {
      "cell_type": "code",
      "metadata": {
        "colab": {
          "base_uri": "https://localhost:8080/"
        },
        "id": "CDRgQQDrj8Y5",
        "outputId": "d055e63b-7abf-4466-ad54-2d8688c4c5f1"
      },
      "source": [
        "print('naive bayes',model.predict([[1954,0,0.5,1,0,0,24,0.8,187,4,0,512,1149,700,16,3,5,1,1,1]]))"
      ],
      "execution_count": null,
      "outputs": [
        {
          "output_type": "stream",
          "text": [
            "naive bayes [0]\n"
          ],
          "name": "stdout"
        }
      ]
    },
    {
      "cell_type": "markdown",
      "metadata": {
        "id": "12bOQuXBH50C"
      },
      "source": [
        "SVM\n",
        "\n"
      ]
    },
    {
      "cell_type": "code",
      "metadata": {
        "id": "Dfny1-WVkBN4",
        "colab": {
          "base_uri": "https://localhost:8080/"
        },
        "outputId": "da571ae0-9120-4be2-c5c5-e673e150415e"
      },
      "source": [
        "from sklearn.svm import SVC\n",
        "modelsvm=SVC(kernel='linear')\n",
        "modelsvm.fit(xtrain, ytrain) "
      ],
      "execution_count": null,
      "outputs": [
        {
          "output_type": "execute_result",
          "data": {
            "text/plain": [
              "SVC(C=1.0, break_ties=False, cache_size=200, class_weight=None, coef0=0.0,\n",
              "    decision_function_shape='ovr', degree=3, gamma='scale', kernel='linear',\n",
              "    max_iter=-1, probability=False, random_state=None, shrinking=True,\n",
              "    tol=0.001, verbose=False)"
            ]
          },
          "metadata": {
            "tags": []
          },
          "execution_count": 28
        }
      ]
    },
    {
      "cell_type": "code",
      "metadata": {
        "id": "TwiZSdnP_5iI"
      },
      "source": [
        "ypredsvm=modelsvm.predict(xtest)\n",
        "print(ypred)\n",
        "from sklearn.metrics import accuracy_score"
      ],
      "execution_count": null,
      "outputs": []
    },
    {
      "cell_type": "code",
      "metadata": {
        "id": "xKWN8UM_AXch",
        "colab": {
          "base_uri": "https://localhost:8080/"
        },
        "outputId": "5e739fc0-4d46-4e9c-dc48-0d61b6f9af75"
      },
      "source": [
        "svm_ac=print('SVM',accuracy_score(ytest,ypredsvm)*100)\n",
        "svm_ac"
      ],
      "execution_count": null,
      "outputs": [
        {
          "output_type": "stream",
          "text": [
            "SVM 96.0\n"
          ],
          "name": "stdout"
        }
      ]
    },
    {
      "cell_type": "code",
      "metadata": {
        "colab": {
          "base_uri": "https://localhost:8080/"
        },
        "id": "GF2QBKWuB3em",
        "outputId": "d0753a45-5b73-4ce1-8a62-699a7e1848f6"
      },
      "source": [
        "print('SVM',model.predict([[1038,0,1.2,0,3,0,43,0.7,141,1,5,4,638,3709,11,0,12,1,1,1]]))"
      ],
      "execution_count": null,
      "outputs": [
        {
          "output_type": "stream",
          "text": [
            "SVM [3]\n"
          ],
          "name": "stdout"
        }
      ]
    },
    {
      "cell_type": "code",
      "metadata": {
        "id": "fLNHYnfHE0MC"
      },
      "source": [
        ""
      ],
      "execution_count": null,
      "outputs": []
    }
  ]
}